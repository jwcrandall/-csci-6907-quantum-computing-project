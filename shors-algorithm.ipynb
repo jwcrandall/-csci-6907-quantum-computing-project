{
  "cells": [
    {
      "cell_type": "markdown",
      "source": [
        "# Azure Quantum Workspace"
      ],
      "metadata": {
        "nteract": {
          "transient": {
            "deleting": false
          }
        }
      }
    },
    {
      "cell_type": "code",
      "source": [
        "import qsharp\n",
        "import qsharp.azure\n",
        "from azure.quantum import Workspace\n",
        "\n",
        "workspace = Workspace (\n",
        "    subscription_id = \"83e0e071-c631-4700-bd13-7c6a2545ab1c\",\n",
        "    resource_group = \"azurequantum\",\n",
        "    name = \"jcrandall-q\",\n",
        "    location = \"eastus\"\n",
        ")\n",
        "\n",
        "targets = qsharp.azure.connect(\n",
        "   resourceId=\"/subscriptions/83e0e071-c631-4700-bd13-7c6a2545ab1c/resourceGroups/AzureQuantum/providers/Microsoft.Quantum/Workspaces/jcrandall-q\",\n",
        "   location=\"eastus\")\n",
        "\n",
        "\n",
        "print(\"This workspace's targets:\")\n",
        "for target in targets:\n",
        "    print(\"-\", target.id)\n"
      ],
      "outputs": [
        {
          "output_type": "stream",
          "name": "stdout",
          "text": "Authenticated using Microsoft.Azure.Quantum.Authentication.TokenFileCredential\n\n\nConnected to Azure Quantum workspace jcrandall-q in location eastus.\nThis workspace's targets:\n- ionq.qpu\n- ionq.simulator\n- quantinuum.hqs-lt-s1\n- quantinuum.hqs-lt-s1-apival\n- quantinuum.hqs-lt-s2\n- quantinuum.hqs-lt-s2-apival\n- quantinuum.hqs-lt-s1-sim\n- quantinuum.hqs-lt-s2-sim\n- quantinuum.hqs-lt\n"
        }
      ],
      "execution_count": 9,
      "metadata": {
        "jupyter": {
          "source_hidden": false,
          "outputs_hidden": false
        },
        "nteract": {
          "transient": {
            "deleting": false
          }
        }
      }
    },
    {
      "cell_type": "markdown",
      "source": [
        "# Shor's Algorithm\n",
        "Given: $M$, the number to be factored:\n",
        "* Step 1: Pick $n$ qubits so that $N = 2^n > M$.\n",
        "* Step 2: Pick a random $ a < M $.\n",
        "* Step 3: If $\\text{gcd}(a,M) \\neq 1$, we've factored $M$, so stop.\n",
        "* Step 4: If not, use $a$ and $M$ in shor's circuit and obtain and outcome $|y\\rangle$ \n",
        "* Step 5: Find the close convergents of $\\frac{y}{N}$, and thus a guess for $r$.\n",
        "* Step 6: See if these two conditions are satisfied:\n",
        "    * $r$ is even.\n",
        "    * $a^{\\frac{r}{2}} + 1 \\equiv_M 0 $ is false\n",
        "    * If not, try a different Step 2 and repeat steps 3-6.\n",
        "* Step 7: If the conditions are satisfed, attempt to factor $M$ as shown via the numbers $a^{\\frac{r}{2}} + 1$ and $a^{\\frac{r}{2}} - 1$.\n",
        "* Repeat as needed to try different $r$ so that at least one provides a $y$ near $\\frac{N}{r}$ \n"
      ],
      "metadata": {
        "nteract": {
          "transient": {
            "deleting": false
          }
        }
      }
    },
    {
      "cell_type": "code",
      "source": [
        "%%qsharp\r\n",
        "\r\n",
        "open Microsoft.Quantum.Arrays;\r\n",
        "open Microsoft.Quantum.Convert;\r\n",
        "open Microsoft.Quantum.Diagnostics;\r\n",
        "open Microsoft.Quantum.Intrinsic;\r\n",
        "open Microsoft.Quantum.Math;\r\n",
        "open Microsoft.Quantum.Measurement;\r\n",
        "\r\n",
        "// 3 qubit Quantum Fourier Transform\r\n",
        "operation Perform3qubitQFT() : Result[] {\r\n",
        "        mutable resultArray = [Zero, size = 3];\r\n",
        "        use qs = Qubit[3];\r\n",
        "        //QFT:\r\n",
        "        //first qubit:\r\n",
        "        H(qs[0]);\r\n",
        "        Controlled R1([qs[1]], (PI()/2.0, qs[0]));\r\n",
        "        Controlled R1([qs[2]], (PI()/4.0, qs[0]));\r\n",
        "        //second qubit:\r\n",
        "        H(qs[1]);\r\n",
        "        Controlled R1([qs[2]], (PI()/2.0, qs[1]));\r\n",
        "        //third qubit:\r\n",
        "        H(qs[2]);\r\n",
        "\r\n",
        "        SWAP(qs[2], qs[0]);\r\n",
        "\r\n",
        "        //Message(\"Before measurement: \");\r\n",
        "        //DumpMachine();\r\n",
        "        \r\n",
        "        for i in IndexRange(qs) {\r\n",
        "            set resultArray w/= i <- M(qs[i]);\r\n",
        "        }\r\n",
        "\r\n",
        "        //Message(\"After measurement: \");\r\n",
        "        //DumpMachine();\r\n",
        "        \r\n",
        "        ResetAll(qs);\r\n",
        "        \r\n",
        "        return resultArray;\r\n",
        "}\r\n"
      ],
      "outputs": [],
      "execution_count": 25,
      "metadata": {
        "jupyter": {
          "source_hidden": false,
          "outputs_hidden": false
        },
        "nteract": {
          "transient": {
            "deleting": false
          }
        },
        "microsoft": {
          "language": "qsharp"
        }
      }
    },
    {
      "cell_type": "code",
      "source": [
        "Perform3qubitQFT()"
      ],
      "outputs": [
        {
          "output_type": "execute_result",
          "execution_count": 29,
          "data": {
            "text/plain": "[0, 1, 1]"
          },
          "metadata": {}
        }
      ],
      "execution_count": 29,
      "metadata": {
        "jupyter": {
          "source_hidden": false,
          "outputs_hidden": false
        },
        "nteract": {
          "transient": {
            "deleting": false
          }
        }
      }
    },
    {
      "cell_type": "code",
      "source": [
        "    %%qsharp\n",
        "    \n",
        "    operation ApplyQFT (reg : d) : Unit \n",
        "    is Adj + Ctl {\n",
        "        \n",
        "        let qs = reg!;        \n",
        "        SwapReverseRegister(qs);\n",
        "        \n",
        "        for (i in Array.IndexRange(qs)) {\n",
        "            for (j in 0 .. i-1) {\n",
        "                Controlled R1Frac([qs[i]], (1, i - j, qs[j]));\n",
        "            }\n",
        "            H(qs[i]);\n",
        "        }\n",
        "    }"
      ],
      "outputs": [
        {
          "output_type": "stream",
          "name": "stderr",
          "text": "/snippet_.qs(2,27): error QS6005: No type with the name \"LittleEndian\" exists in any of the open namespaces.\n/snippet_.qs(8,15): error QS5022: No identifier with the name \"IndexRange\" exists.\n/snippet_.qs(8,15): error QS6316: Auto-generation of inversions is not supported for operations that contain operation calls outside expression statements.\n/snippet_.qs(9,19): error QS6316: Auto-generation of inversions is not supported for operations that contain operation calls outside expression statements.\n"
        },
        {
          "output_type": "error",
          "ename": "TypeError",
          "evalue": "'NoneType' object is not iterable",
          "traceback": [
            "\u001b[0;31m---------------------------------------------------------------------------\u001b[0m",
            "\u001b[0;31mTypeError\u001b[0m                                 Traceback (most recent call last)",
            "\u001b[0;32m/tmp/ipykernel_12086/4243761356.py\u001b[0m in \u001b[0;36m<module>\u001b[0;34m\u001b[0m\n\u001b[0;32m----> 1\u001b[0;31m \u001b[0mget_ipython\u001b[0m\u001b[0;34m(\u001b[0m\u001b[0;34m)\u001b[0m\u001b[0;34m.\u001b[0m\u001b[0mrun_cell_magic\u001b[0m\u001b[0;34m(\u001b[0m\u001b[0;34m'qsharp'\u001b[0m\u001b[0;34m,\u001b[0m \u001b[0;34m''\u001b[0m\u001b[0;34m,\u001b[0m \u001b[0;34m'\\noperation ApplyQFT (reg : LittleEndian) : Unit \\nis Adj + Ctl {\\n    \\n    let qs = reg!;        \\n    SwapReverseRegister(qs);\\n    \\n    for (i in Array.IndexRange(qs)) {\\n        for (j in 0 .. i-1) {\\n            Controlled R1Frac([qs[i]], (1, i - j, qs[j]));\\n        }\\n        H(qs[i]);\\n    }\\n}\\n'\u001b[0m\u001b[0;34m)\u001b[0m\u001b[0;34m\u001b[0m\u001b[0;34m\u001b[0m\u001b[0m\n\u001b[0m",
            "\u001b[0;32m/usr/local/lib/python3.7/site-packages/IPython/core/interactiveshell.py\u001b[0m in \u001b[0;36mrun_cell_magic\u001b[0;34m(self, magic_name, line, cell)\u001b[0m\n\u001b[1;32m   2460\u001b[0m             \u001b[0;32mwith\u001b[0m \u001b[0mself\u001b[0m\u001b[0;34m.\u001b[0m\u001b[0mbuiltin_trap\u001b[0m\u001b[0;34m:\u001b[0m\u001b[0;34m\u001b[0m\u001b[0;34m\u001b[0m\u001b[0m\n\u001b[1;32m   2461\u001b[0m                 \u001b[0margs\u001b[0m \u001b[0;34m=\u001b[0m \u001b[0;34m(\u001b[0m\u001b[0mmagic_arg_s\u001b[0m\u001b[0;34m,\u001b[0m \u001b[0mcell\u001b[0m\u001b[0;34m)\u001b[0m\u001b[0;34m\u001b[0m\u001b[0;34m\u001b[0m\u001b[0m\n\u001b[0;32m-> 2462\u001b[0;31m                 \u001b[0mresult\u001b[0m \u001b[0;34m=\u001b[0m \u001b[0mfn\u001b[0m\u001b[0;34m(\u001b[0m\u001b[0;34m*\u001b[0m\u001b[0margs\u001b[0m\u001b[0;34m,\u001b[0m \u001b[0;34m**\u001b[0m\u001b[0mkwargs\u001b[0m\u001b[0;34m)\u001b[0m\u001b[0;34m\u001b[0m\u001b[0;34m\u001b[0m\u001b[0m\n\u001b[0m\u001b[1;32m   2463\u001b[0m             \u001b[0;32mreturn\u001b[0m \u001b[0mresult\u001b[0m\u001b[0;34m\u001b[0m\u001b[0;34m\u001b[0m\u001b[0m\n\u001b[1;32m   2464\u001b[0m \u001b[0;34m\u001b[0m\u001b[0m\n",
            "\u001b[0;32m/usr/local/lib/python3.7/site-packages/qsharp/ipython_magic.py\u001b[0m in \u001b[0;36mqsharp\u001b[0;34m(magic_args, cell, local_ns)\u001b[0m\n\u001b[1;32m     26\u001b[0m             \u001b[0mlocal_ns\u001b[0m\u001b[0;34m[\u001b[0m\u001b[0mcallables\u001b[0m\u001b[0;34m.\u001b[0m\u001b[0m_name\u001b[0m\u001b[0;34m]\u001b[0m \u001b[0;34m=\u001b[0m \u001b[0mcallables\u001b[0m\u001b[0;34m\u001b[0m\u001b[0;34m\u001b[0m\u001b[0m\n\u001b[1;32m     27\u001b[0m         \u001b[0;32melse\u001b[0m\u001b[0;34m:\u001b[0m\u001b[0;34m\u001b[0m\u001b[0;34m\u001b[0m\u001b[0m\n\u001b[0;32m---> 28\u001b[0;31m             \u001b[0;32mfor\u001b[0m \u001b[0mqs_callable\u001b[0m \u001b[0;32min\u001b[0m \u001b[0mcallables\u001b[0m\u001b[0;34m:\u001b[0m\u001b[0;34m\u001b[0m\u001b[0;34m\u001b[0m\u001b[0m\n\u001b[0m\u001b[1;32m     29\u001b[0m                 \u001b[0mlocal_ns\u001b[0m\u001b[0;34m[\u001b[0m\u001b[0mqs_callable\u001b[0m\u001b[0;34m.\u001b[0m\u001b[0m_name\u001b[0m\u001b[0;34m]\u001b[0m \u001b[0;34m=\u001b[0m \u001b[0mqs_callable\u001b[0m\u001b[0;34m\u001b[0m\u001b[0;34m\u001b[0m\u001b[0m\n\u001b[1;32m     30\u001b[0m \u001b[0;34m\u001b[0m\u001b[0m\n",
            "\u001b[0;31mTypeError\u001b[0m: 'NoneType' object is not iterable"
          ]
        },
        {
          "output_type": "stream",
          "name": "stdout",
          "text": "\u001b[41m\u001b[30mfail\u001b[39m\u001b[22m\u001b[49m: Microsoft.Quantum.IQSharp.Snippets[0]\n      QS6005 (/snippet_.qs:Microsoft.VisualStudio.LanguageServer.Protocol.Range): No type with the name \"LittleEndian\" exists in any of the open namespaces.\n\u001b[41m\u001b[30mfail\u001b[39m\u001b[22m\u001b[49m: Microsoft.Quantum.IQSharp.Snippets[0]\n      QS5022 (/snippet_.qs:Microsoft.VisualStudio.LanguageServer.Protocol.Range): No identifier with the name \"IndexRange\" exists.\n\u001b[41m\u001b[30mfail\u001b[39m\u001b[22m\u001b[49m: Microsoft.Quantum.IQSharp.Snippets[0]\n      QS6316 (/snippet_.qs:Microsoft.VisualStudio.LanguageServer.Protocol.Range): Auto-generation of inversions is not supported for operations that contain operation calls outside expression statements.\n\u001b[41m\u001b[30mfail\u001b[39m\u001b[22m\u001b[49m: Microsoft.Quantum.IQSharp.Snippets[0]\n      QS6316 (/snippet_.qs:Microsoft.VisualStudio.LanguageServer.Protocol.Range): Auto-generation of inversions is not supported for operations that contain operation calls outside expression statements.\n"
        }
      ],
      "execution_count": 22,
      "metadata": {
        "jupyter": {
          "source_hidden": false,
          "outputs_hidden": false
        },
        "nteract": {
          "transient": {
            "deleting": false
          }
        },
        "microsoft": {
          "language": "qsharp"
        }
      }
    },
    {
      "cell_type": "code",
      "source": [
        "# Set the target to ionq.simulator\n",
        "qsharp.azure.target(\"ionq.simulator\")"
      ],
      "outputs": [
        {
          "output_type": "stream",
          "name": "stdout",
          "text": "Loading package Microsoft.Quantum.Providers.IonQ and dependencies...\nActive target is now ionq.simulator\n"
        },
        {
          "output_type": "execute_result",
          "execution_count": 10,
          "data": {
            "text/plain": "{'id': 'ionq.simulator', 'current_availability': {}, 'average_queue_time': 2}"
          },
          "metadata": {}
        }
      ],
      "execution_count": 10,
      "metadata": {
        "jupyter": {
          "source_hidden": false,
          "outputs_hidden": false
        },
        "nteract": {
          "transient": {
            "deleting": false
          }
        }
      }
    },
    {
      "cell_type": "code",
      "source": [
        "Perform3qubitQFT()"
      ],
      "outputs": [
        {
          "output_type": "stream",
          "name": "stdout",
          "text": "Before measurement: \n"
        },
        {
          "output_type": "display_data",
          "data": {
            "text/plain": "|0⟩\t0.35355339059327384 + 0𝑖\n|1⟩\t0.35355339059327384 + 0𝑖\n|2⟩\t0.35355339059327384 + 0𝑖\n|3⟩\t0.35355339059327384 + 0𝑖\n|4⟩\t0.35355339059327384 + 0𝑖\n|5⟩\t0.35355339059327384 + 0𝑖\n|6⟩\t0.35355339059327384 + 0𝑖\n|7⟩\t0.35355339059327384 + 0𝑖",
            "text/html": "\r\n                    <table style=\"table-layout: fixed; width: 100%\">\r\n                        <thead>\r\n                            \r\n                        <tr>\r\n                            <th>Qubit IDs</th>\r\n                            <td span=\"3\">0, 1, 2</td>\r\n                        </tr>\r\n                    \r\n                            <tr>\r\n                                <th style=\"width: 20ch)\">Basis state (little endian)</th>\r\n                                <th style=\"width: 20ch\">Amplitude</th><th style=\"width: calc(100% - 26ch - 20ch)\">Meas. Pr.</th><th style=\"width: 6ch\">Phase</th>\r\n                            </tr>\r\n                        </thead>\r\n                        <tbody>\r\n                        \r\n                            <tr>\r\n                                <td>$\\left|0\\right\\rangle$</td>\r\n                                <td>$0.3536 + 0.0000 i$</td>\r\n                                \r\n                                <td>\r\n                                    <progress\r\n                                        max=\"100\"\r\n                                        value=\"12.500000000000005\"\r\n                                        style=\"width: 100%;\"\r\n                                    > \r\n                                    <td>\r\n                                    <p id=\"round-0286522c-bb33-49eb-bc25-b964deb1f676\"> \r\n                                    <script>\r\n                                    var num = 12.500000000000005;\r\n                                    num = num.toFixed(4);\r\n                                    var num_string = num + \"%\";\r\n                                     document.getElementById(\"round-0286522c-bb33-49eb-bc25-b964deb1f676\").innerHTML = num_string;\r\n                                    </script> </p>\r\n                                    </td>\r\n                                </td>\r\n                            \r\n                                \r\n                                <td style=\"transform: rotate(0deg);\r\n                   text-align: center;\">\r\n                                 ↑\r\n                                </td>\r\n                            \r\n                            </tr>\r\n                        \n\r\n                            <tr>\r\n                                <td>$\\left|1\\right\\rangle$</td>\r\n                                <td>$0.3536 + 0.0000 i$</td>\r\n                                \r\n                                <td>\r\n                                    <progress\r\n                                        max=\"100\"\r\n                                        value=\"12.500000000000005\"\r\n                                        style=\"width: 100%;\"\r\n                                    > \r\n                                    <td>\r\n                                    <p id=\"round-e0277967-41ed-4ba7-b49d-11c0988fc4e7\"> \r\n                                    <script>\r\n                                    var num = 12.500000000000005;\r\n                                    num = num.toFixed(4);\r\n                                    var num_string = num + \"%\";\r\n                                     document.getElementById(\"round-e0277967-41ed-4ba7-b49d-11c0988fc4e7\").innerHTML = num_string;\r\n                                    </script> </p>\r\n                                    </td>\r\n                                </td>\r\n                            \r\n                                \r\n                                <td style=\"transform: rotate(0deg);\r\n                   text-align: center;\">\r\n                                 ↑\r\n                                </td>\r\n                            \r\n                            </tr>\r\n                        \n\r\n                            <tr>\r\n                                <td>$\\left|2\\right\\rangle$</td>\r\n                                <td>$0.3536 + 0.0000 i$</td>\r\n                                \r\n                                <td>\r\n                                    <progress\r\n                                        max=\"100\"\r\n                                        value=\"12.500000000000005\"\r\n                                        style=\"width: 100%;\"\r\n                                    > \r\n                                    <td>\r\n                                    <p id=\"round-40453499-e7bf-4940-a036-ff45c5601c70\"> \r\n                                    <script>\r\n                                    var num = 12.500000000000005;\r\n                                    num = num.toFixed(4);\r\n                                    var num_string = num + \"%\";\r\n                                     document.getElementById(\"round-40453499-e7bf-4940-a036-ff45c5601c70\").innerHTML = num_string;\r\n                                    </script> </p>\r\n                                    </td>\r\n                                </td>\r\n                            \r\n                                \r\n                                <td style=\"transform: rotate(0deg);\r\n                   text-align: center;\">\r\n                                 ↑\r\n                                </td>\r\n                            \r\n                            </tr>\r\n                        \n\r\n                            <tr>\r\n                                <td>$\\left|3\\right\\rangle$</td>\r\n                                <td>$0.3536 + 0.0000 i$</td>\r\n                                \r\n                                <td>\r\n                                    <progress\r\n                                        max=\"100\"\r\n                                        value=\"12.500000000000005\"\r\n                                        style=\"width: 100%;\"\r\n                                    > \r\n                                    <td>\r\n                                    <p id=\"round-c92d039f-2019-4786-94a4-2f2076099079\"> \r\n                                    <script>\r\n                                    var num = 12.500000000000005;\r\n                                    num = num.toFixed(4);\r\n                                    var num_string = num + \"%\";\r\n                                     document.getElementById(\"round-c92d039f-2019-4786-94a4-2f2076099079\").innerHTML = num_string;\r\n                                    </script> </p>\r\n                                    </td>\r\n                                </td>\r\n                            \r\n                                \r\n                                <td style=\"transform: rotate(0deg);\r\n                   text-align: center;\">\r\n                                 ↑\r\n                                </td>\r\n                            \r\n                            </tr>\r\n                        \n\r\n                            <tr>\r\n                                <td>$\\left|4\\right\\rangle$</td>\r\n                                <td>$0.3536 + 0.0000 i$</td>\r\n                                \r\n                                <td>\r\n                                    <progress\r\n                                        max=\"100\"\r\n                                        value=\"12.500000000000005\"\r\n                                        style=\"width: 100%;\"\r\n                                    > \r\n                                    <td>\r\n                                    <p id=\"round-e04967d3-b122-449b-9516-e3883fe251bd\"> \r\n                                    <script>\r\n                                    var num = 12.500000000000005;\r\n                                    num = num.toFixed(4);\r\n                                    var num_string = num + \"%\";\r\n                                     document.getElementById(\"round-e04967d3-b122-449b-9516-e3883fe251bd\").innerHTML = num_string;\r\n                                    </script> </p>\r\n                                    </td>\r\n                                </td>\r\n                            \r\n                                \r\n                                <td style=\"transform: rotate(0deg);\r\n                   text-align: center;\">\r\n                                 ↑\r\n                                </td>\r\n                            \r\n                            </tr>\r\n                        \n\r\n                            <tr>\r\n                                <td>$\\left|5\\right\\rangle$</td>\r\n                                <td>$0.3536 + 0.0000 i$</td>\r\n                                \r\n                                <td>\r\n                                    <progress\r\n                                        max=\"100\"\r\n                                        value=\"12.500000000000005\"\r\n                                        style=\"width: 100%;\"\r\n                                    > \r\n                                    <td>\r\n                                    <p id=\"round-77c96ade-8afa-4984-ac1a-69e6f63dab31\"> \r\n                                    <script>\r\n                                    var num = 12.500000000000005;\r\n                                    num = num.toFixed(4);\r\n                                    var num_string = num + \"%\";\r\n                                     document.getElementById(\"round-77c96ade-8afa-4984-ac1a-69e6f63dab31\").innerHTML = num_string;\r\n                                    </script> </p>\r\n                                    </td>\r\n                                </td>\r\n                            \r\n                                \r\n                                <td style=\"transform: rotate(0deg);\r\n                   text-align: center;\">\r\n                                 ↑\r\n                                </td>\r\n                            \r\n                            </tr>\r\n                        \n\r\n                            <tr>\r\n                                <td>$\\left|6\\right\\rangle$</td>\r\n                                <td>$0.3536 + 0.0000 i$</td>\r\n                                \r\n                                <td>\r\n                                    <progress\r\n                                        max=\"100\"\r\n                                        value=\"12.500000000000005\"\r\n                                        style=\"width: 100%;\"\r\n                                    > \r\n                                    <td>\r\n                                    <p id=\"round-275b09a5-efd8-4a94-be6a-c748da3a9fa4\"> \r\n                                    <script>\r\n                                    var num = 12.500000000000005;\r\n                                    num = num.toFixed(4);\r\n                                    var num_string = num + \"%\";\r\n                                     document.getElementById(\"round-275b09a5-efd8-4a94-be6a-c748da3a9fa4\").innerHTML = num_string;\r\n                                    </script> </p>\r\n                                    </td>\r\n                                </td>\r\n                            \r\n                                \r\n                                <td style=\"transform: rotate(0deg);\r\n                   text-align: center;\">\r\n                                 ↑\r\n                                </td>\r\n                            \r\n                            </tr>\r\n                        \n\r\n                            <tr>\r\n                                <td>$\\left|7\\right\\rangle$</td>\r\n                                <td>$0.3536 + 0.0000 i$</td>\r\n                                \r\n                                <td>\r\n                                    <progress\r\n                                        max=\"100\"\r\n                                        value=\"12.500000000000005\"\r\n                                        style=\"width: 100%;\"\r\n                                    > \r\n                                    <td>\r\n                                    <p id=\"round-90db67a6-4e4c-4a0e-9bb5-213eb4b57b64\"> \r\n                                    <script>\r\n                                    var num = 12.500000000000005;\r\n                                    num = num.toFixed(4);\r\n                                    var num_string = num + \"%\";\r\n                                     document.getElementById(\"round-90db67a6-4e4c-4a0e-9bb5-213eb4b57b64\").innerHTML = num_string;\r\n                                    </script> </p>\r\n                                    </td>\r\n                                </td>\r\n                            \r\n                                \r\n                                <td style=\"transform: rotate(0deg);\r\n                   text-align: center;\">\r\n                                 ↑\r\n                                </td>\r\n                            \r\n                            </tr>\r\n                        \r\n                        </tbody>\r\n                    </table>",
            "application/x-qsharp-data": "{\"diagnostic_kind\":\"state-vector\",\"qubit_ids\":[0,1,2],\"n_qubits\":3,\"amplitudes\":{\"0\":{\"Real\":0.35355339059327384,\"Imaginary\":0.0,\"Magnitude\":0.35355339059327384,\"Phase\":0.0},\"1\":{\"Real\":0.35355339059327384,\"Imaginary\":0.0,\"Magnitude\":0.35355339059327384,\"Phase\":0.0},\"2\":{\"Real\":0.35355339059327384,\"Imaginary\":0.0,\"Magnitude\":0.35355339059327384,\"Phase\":0.0},\"3\":{\"Real\":0.35355339059327384,\"Imaginary\":0.0,\"Magnitude\":0.35355339059327384,\"Phase\":0.0},\"4\":{\"Real\":0.35355339059327384,\"Imaginary\":0.0,\"Magnitude\":0.35355339059327384,\"Phase\":0.0},\"5\":{\"Real\":0.35355339059327384,\"Imaginary\":0.0,\"Magnitude\":0.35355339059327384,\"Phase\":0.0},\"6\":{\"Real\":0.35355339059327384,\"Imaginary\":0.0,\"Magnitude\":0.35355339059327384,\"Phase\":0.0},\"7\":{\"Real\":0.35355339059327384,\"Imaginary\":0.0,\"Magnitude\":0.35355339059327384,\"Phase\":0.0}}}"
          },
          "metadata": {}
        },
        {
          "output_type": "stream",
          "name": "stdout",
          "text": "After measurement: \n"
        },
        {
          "output_type": "display_data",
          "data": {
            "text/plain": "|0⟩\t0 + 0𝑖\n|1⟩\t0 + 0𝑖\n|2⟩\t0 + 0𝑖\n|3⟩\t0 + 0𝑖\n|4⟩\t0 + 0𝑖\n|5⟩\t1 + 0𝑖\n|6⟩\t0 + 0𝑖\n|7⟩\t0 + 0𝑖",
            "text/html": "\r\n                    <table style=\"table-layout: fixed; width: 100%\">\r\n                        <thead>\r\n                            \r\n                        <tr>\r\n                            <th>Qubit IDs</th>\r\n                            <td span=\"3\">0, 1, 2</td>\r\n                        </tr>\r\n                    \r\n                            <tr>\r\n                                <th style=\"width: 20ch)\">Basis state (little endian)</th>\r\n                                <th style=\"width: 20ch\">Amplitude</th><th style=\"width: calc(100% - 26ch - 20ch)\">Meas. Pr.</th><th style=\"width: 6ch\">Phase</th>\r\n                            </tr>\r\n                        </thead>\r\n                        <tbody>\r\n                        \r\n                            <tr>\r\n                                <td>$\\left|0\\right\\rangle$</td>\r\n                                <td>$0.0000 + 0.0000 i$</td>\r\n                                \r\n                                <td>\r\n                                    <progress\r\n                                        max=\"100\"\r\n                                        value=\"0\"\r\n                                        style=\"width: 100%;\"\r\n                                    > \r\n                                    <td>\r\n                                    <p id=\"round-22b0eac3-c838-4848-802b-fa6d6c834dee\"> \r\n                                    <script>\r\n                                    var num = 0;\r\n                                    num = num.toFixed(4);\r\n                                    var num_string = num + \"%\";\r\n                                     document.getElementById(\"round-22b0eac3-c838-4848-802b-fa6d6c834dee\").innerHTML = num_string;\r\n                                    </script> </p>\r\n                                    </td>\r\n                                </td>\r\n                            \r\n                                \r\n                                <td style=\"transform: rotate(0deg);\r\n                   text-align: center;\">\r\n                                 ↑\r\n                                </td>\r\n                            \r\n                            </tr>\r\n                        \n\r\n                            <tr>\r\n                                <td>$\\left|1\\right\\rangle$</td>\r\n                                <td>$0.0000 + 0.0000 i$</td>\r\n                                \r\n                                <td>\r\n                                    <progress\r\n                                        max=\"100\"\r\n                                        value=\"0\"\r\n                                        style=\"width: 100%;\"\r\n                                    > \r\n                                    <td>\r\n                                    <p id=\"round-2d46ee02-78de-4198-9194-f9d3e699eb90\"> \r\n                                    <script>\r\n                                    var num = 0;\r\n                                    num = num.toFixed(4);\r\n                                    var num_string = num + \"%\";\r\n                                     document.getElementById(\"round-2d46ee02-78de-4198-9194-f9d3e699eb90\").innerHTML = num_string;\r\n                                    </script> </p>\r\n                                    </td>\r\n                                </td>\r\n                            \r\n                                \r\n                                <td style=\"transform: rotate(0deg);\r\n                   text-align: center;\">\r\n                                 ↑\r\n                                </td>\r\n                            \r\n                            </tr>\r\n                        \n\r\n                            <tr>\r\n                                <td>$\\left|2\\right\\rangle$</td>\r\n                                <td>$0.0000 + 0.0000 i$</td>\r\n                                \r\n                                <td>\r\n                                    <progress\r\n                                        max=\"100\"\r\n                                        value=\"0\"\r\n                                        style=\"width: 100%;\"\r\n                                    > \r\n                                    <td>\r\n                                    <p id=\"round-ebabd390-c2f5-4726-9768-3db387796caf\"> \r\n                                    <script>\r\n                                    var num = 0;\r\n                                    num = num.toFixed(4);\r\n                                    var num_string = num + \"%\";\r\n                                     document.getElementById(\"round-ebabd390-c2f5-4726-9768-3db387796caf\").innerHTML = num_string;\r\n                                    </script> </p>\r\n                                    </td>\r\n                                </td>\r\n                            \r\n                                \r\n                                <td style=\"transform: rotate(0deg);\r\n                   text-align: center;\">\r\n                                 ↑\r\n                                </td>\r\n                            \r\n                            </tr>\r\n                        \n\r\n                            <tr>\r\n                                <td>$\\left|3\\right\\rangle$</td>\r\n                                <td>$0.0000 + 0.0000 i$</td>\r\n                                \r\n                                <td>\r\n                                    <progress\r\n                                        max=\"100\"\r\n                                        value=\"0\"\r\n                                        style=\"width: 100%;\"\r\n                                    > \r\n                                    <td>\r\n                                    <p id=\"round-b3ec70d1-f6cb-43af-b744-31870d9ddabd\"> \r\n                                    <script>\r\n                                    var num = 0;\r\n                                    num = num.toFixed(4);\r\n                                    var num_string = num + \"%\";\r\n                                     document.getElementById(\"round-b3ec70d1-f6cb-43af-b744-31870d9ddabd\").innerHTML = num_string;\r\n                                    </script> </p>\r\n                                    </td>\r\n                                </td>\r\n                            \r\n                                \r\n                                <td style=\"transform: rotate(0deg);\r\n                   text-align: center;\">\r\n                                 ↑\r\n                                </td>\r\n                            \r\n                            </tr>\r\n                        \n\r\n                            <tr>\r\n                                <td>$\\left|4\\right\\rangle$</td>\r\n                                <td>$0.0000 + 0.0000 i$</td>\r\n                                \r\n                                <td>\r\n                                    <progress\r\n                                        max=\"100\"\r\n                                        value=\"0\"\r\n                                        style=\"width: 100%;\"\r\n                                    > \r\n                                    <td>\r\n                                    <p id=\"round-07d49c99-21c5-437b-8de9-455a2ffcacf5\"> \r\n                                    <script>\r\n                                    var num = 0;\r\n                                    num = num.toFixed(4);\r\n                                    var num_string = num + \"%\";\r\n                                     document.getElementById(\"round-07d49c99-21c5-437b-8de9-455a2ffcacf5\").innerHTML = num_string;\r\n                                    </script> </p>\r\n                                    </td>\r\n                                </td>\r\n                            \r\n                                \r\n                                <td style=\"transform: rotate(0deg);\r\n                   text-align: center;\">\r\n                                 ↑\r\n                                </td>\r\n                            \r\n                            </tr>\r\n                        \n\r\n                            <tr>\r\n                                <td>$\\left|5\\right\\rangle$</td>\r\n                                <td>$1.0000 + 0.0000 i$</td>\r\n                                \r\n                                <td>\r\n                                    <progress\r\n                                        max=\"100\"\r\n                                        value=\"100\"\r\n                                        style=\"width: 100%;\"\r\n                                    > \r\n                                    <td>\r\n                                    <p id=\"round-e7435d8a-6bc8-4a90-a784-240bb5efb5ad\"> \r\n                                    <script>\r\n                                    var num = 100;\r\n                                    num = num.toFixed(4);\r\n                                    var num_string = num + \"%\";\r\n                                     document.getElementById(\"round-e7435d8a-6bc8-4a90-a784-240bb5efb5ad\").innerHTML = num_string;\r\n                                    </script> </p>\r\n                                    </td>\r\n                                </td>\r\n                            \r\n                                \r\n                                <td style=\"transform: rotate(0deg);\r\n                   text-align: center;\">\r\n                                 ↑\r\n                                </td>\r\n                            \r\n                            </tr>\r\n                        \n\r\n                            <tr>\r\n                                <td>$\\left|6\\right\\rangle$</td>\r\n                                <td>$0.0000 + 0.0000 i$</td>\r\n                                \r\n                                <td>\r\n                                    <progress\r\n                                        max=\"100\"\r\n                                        value=\"0\"\r\n                                        style=\"width: 100%;\"\r\n                                    > \r\n                                    <td>\r\n                                    <p id=\"round-0543b578-1517-4691-a37b-da313c7645d5\"> \r\n                                    <script>\r\n                                    var num = 0;\r\n                                    num = num.toFixed(4);\r\n                                    var num_string = num + \"%\";\r\n                                     document.getElementById(\"round-0543b578-1517-4691-a37b-da313c7645d5\").innerHTML = num_string;\r\n                                    </script> </p>\r\n                                    </td>\r\n                                </td>\r\n                            \r\n                                \r\n                                <td style=\"transform: rotate(0deg);\r\n                   text-align: center;\">\r\n                                 ↑\r\n                                </td>\r\n                            \r\n                            </tr>\r\n                        \n\r\n                            <tr>\r\n                                <td>$\\left|7\\right\\rangle$</td>\r\n                                <td>$0.0000 + 0.0000 i$</td>\r\n                                \r\n                                <td>\r\n                                    <progress\r\n                                        max=\"100\"\r\n                                        value=\"0\"\r\n                                        style=\"width: 100%;\"\r\n                                    > \r\n                                    <td>\r\n                                    <p id=\"round-8ef45189-ed74-45a4-8e1e-c76f483eb751\"> \r\n                                    <script>\r\n                                    var num = 0;\r\n                                    num = num.toFixed(4);\r\n                                    var num_string = num + \"%\";\r\n                                     document.getElementById(\"round-8ef45189-ed74-45a4-8e1e-c76f483eb751\").innerHTML = num_string;\r\n                                    </script> </p>\r\n                                    </td>\r\n                                </td>\r\n                            \r\n                                \r\n                                <td style=\"transform: rotate(0deg);\r\n                   text-align: center;\">\r\n                                 ↑\r\n                                </td>\r\n                            \r\n                            </tr>\r\n                        \r\n                        </tbody>\r\n                    </table>",
            "application/x-qsharp-data": "{\"diagnostic_kind\":\"state-vector\",\"qubit_ids\":[0,1,2],\"n_qubits\":3,\"amplitudes\":{\"0\":{\"Real\":0.0,\"Imaginary\":0.0,\"Magnitude\":0.0,\"Phase\":0.0},\"1\":{\"Real\":0.0,\"Imaginary\":0.0,\"Magnitude\":0.0,\"Phase\":0.0},\"2\":{\"Real\":0.0,\"Imaginary\":0.0,\"Magnitude\":0.0,\"Phase\":0.0},\"3\":{\"Real\":0.0,\"Imaginary\":0.0,\"Magnitude\":0.0,\"Phase\":0.0},\"4\":{\"Real\":0.0,\"Imaginary\":0.0,\"Magnitude\":0.0,\"Phase\":0.0},\"5\":{\"Real\":1.0,\"Imaginary\":0.0,\"Magnitude\":1.0,\"Phase\":0.0},\"6\":{\"Real\":0.0,\"Imaginary\":0.0,\"Magnitude\":0.0,\"Phase\":0.0},\"7\":{\"Real\":0.0,\"Imaginary\":0.0,\"Magnitude\":0.0,\"Phase\":0.0}}}"
          },
          "metadata": {}
        },
        {
          "output_type": "execute_result",
          "execution_count": 12,
          "data": {
            "text/plain": "[1, 0, 1]"
          },
          "metadata": {}
        }
      ],
      "execution_count": 12,
      "metadata": {
        "jupyter": {
          "source_hidden": false,
          "outputs_hidden": false
        },
        "nteract": {
          "transient": {
            "deleting": false
          }
        }
      }
    },
    {
      "cell_type": "code",
      "source": [
        "# We'll use 100 shots (simulated runs). Timeout is in seconds.\r\n",
        "result = qsharp.azure.execute(Perform3qubitQFT, shots=100, jobName=\"Perform 3 qubit QFT\", timeout=240)"
      ],
      "outputs": [
        {
          "output_type": "stream",
          "name": "stdout",
          "text": "Submitting Perform3qubitQFT to target ionq.simulator...\n"
        },
        {
          "output_type": "stream",
          "name": "stderr",
          "text": "Failed to submit Q# operation Perform3qubitQFT for execution.\nException has been thrown by the target of an invocation.\n"
        },
        {
          "output_type": "error",
          "ename": "AzureError",
          "evalue": "{'error_code': 1010, 'error_name': 'JobSubmissionFailed', 'error_description': 'Failed to submit the job to the Azure Quantum workspace.'}",
          "traceback": [
            "\u001b[0;31m---------------------------------------------------------------------------\u001b[0m",
            "\u001b[0;31mAzureError\u001b[0m                                Traceback (most recent call last)",
            "\u001b[0;32m/tmp/ipykernel_12086/705857974.py\u001b[0m in \u001b[0;36m<module>\u001b[0;34m\u001b[0m\n\u001b[1;32m      1\u001b[0m \u001b[0;31m# We'll use 100 shots (simulated runs). Timeout is in seconds.\u001b[0m\u001b[0;34m\u001b[0m\u001b[0;34m\u001b[0m\u001b[0;34m\u001b[0m\u001b[0m\n\u001b[0;32m----> 2\u001b[0;31m \u001b[0mresult\u001b[0m \u001b[0;34m=\u001b[0m \u001b[0mqsharp\u001b[0m\u001b[0;34m.\u001b[0m\u001b[0mazure\u001b[0m\u001b[0;34m.\u001b[0m\u001b[0mexecute\u001b[0m\u001b[0;34m(\u001b[0m\u001b[0mPerform3qubitQFT\u001b[0m\u001b[0;34m,\u001b[0m \u001b[0mshots\u001b[0m\u001b[0;34m=\u001b[0m\u001b[0;36m100\u001b[0m\u001b[0;34m,\u001b[0m \u001b[0mjobName\u001b[0m\u001b[0;34m=\u001b[0m\u001b[0;34m\"Perform 3 qubit QFT\"\u001b[0m\u001b[0;34m,\u001b[0m \u001b[0mtimeout\u001b[0m\u001b[0;34m=\u001b[0m\u001b[0;36m240\u001b[0m\u001b[0;34m)\u001b[0m\u001b[0;34m\u001b[0m\u001b[0;34m\u001b[0m\u001b[0m\n\u001b[0m",
            "\u001b[0;32m/usr/local/lib/python3.7/site-packages/qsharp/azure.py\u001b[0m in \u001b[0;36mexecute\u001b[0;34m(op, **params)\u001b[0m\n\u001b[1;32m    138\u001b[0m     \"\"\"\n\u001b[1;32m    139\u001b[0m     \u001b[0mresult\u001b[0m \u001b[0;34m=\u001b[0m \u001b[0mqsharp\u001b[0m\u001b[0;34m.\u001b[0m\u001b[0mclient\u001b[0m\u001b[0;34m.\u001b[0m\u001b[0m_execute_callable_magic\u001b[0m\u001b[0;34m(\u001b[0m\u001b[0;34m\"azure.execute\"\u001b[0m\u001b[0;34m,\u001b[0m \u001b[0mop\u001b[0m\u001b[0;34m,\u001b[0m \u001b[0mraise_on_stderr\u001b[0m\u001b[0;34m=\u001b[0m\u001b[0;32mFalse\u001b[0m\u001b[0;34m,\u001b[0m \u001b[0;34m**\u001b[0m\u001b[0mparams\u001b[0m\u001b[0;34m)\u001b[0m\u001b[0;34m\u001b[0m\u001b[0;34m\u001b[0m\u001b[0m\n\u001b[0;32m--> 140\u001b[0;31m     \u001b[0;32mif\u001b[0m \u001b[0;34m\"error_code\"\u001b[0m \u001b[0;32min\u001b[0m \u001b[0mresult\u001b[0m\u001b[0;34m:\u001b[0m \u001b[0;32mraise\u001b[0m \u001b[0mAzureError\u001b[0m\u001b[0;34m(\u001b[0m\u001b[0mresult\u001b[0m\u001b[0;34m)\u001b[0m\u001b[0;34m\u001b[0m\u001b[0;34m\u001b[0m\u001b[0m\n\u001b[0m\u001b[1;32m    141\u001b[0m     \u001b[0;32mreturn\u001b[0m \u001b[0mresult\u001b[0m\u001b[0;34m\u001b[0m\u001b[0;34m\u001b[0m\u001b[0m\n\u001b[1;32m    142\u001b[0m \u001b[0;34m\u001b[0m\u001b[0m\n",
            "\u001b[0;31mAzureError\u001b[0m: {'error_code': 1010, 'error_name': 'JobSubmissionFailed', 'error_description': 'Failed to submit the job to the Azure Quantum workspace.'}"
          ]
        }
      ],
      "execution_count": 24,
      "metadata": {
        "jupyter": {
          "source_hidden": false,
          "outputs_hidden": false
        },
        "nteract": {
          "transient": {
            "deleting": false
          }
        }
      }
    }
  ],
  "metadata": {
    "language_info": {
      "name": "python",
      "version": "3.7.13",
      "mimetype": "text/x-python",
      "codemirror_mode": {
        "name": "ipython",
        "version": 3
      },
      "pygments_lexer": "ipython3",
      "nbconvert_exporter": "python",
      "file_extension": ".py"
    },
    "kernelspec": {
      "name": "python3",
      "language": "python",
      "display_name": "Python 3 (ipykernel)"
    },
    "kernel_info": {
      "name": "python3"
    },
    "nteract": {
      "version": "nteract-front-end@1.0.0"
    }
  },
  "nbformat": 4,
  "nbformat_minor": 0
}