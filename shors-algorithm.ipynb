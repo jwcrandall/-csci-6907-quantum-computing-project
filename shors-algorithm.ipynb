{
  "cells": [
    {
      "cell_type": "code",
      "source": [
        "from azure.quantum import Workspace\n",
        "workspace = Workspace (\n",
        "    subscription_id = \"83e0e071-c631-4700-bd13-7c6a2545ab1c\",\n",
        "    resource_group = \"azurequantum\",\n",
        "    name = \"jcrandall-q\",\n",
        "    location = \"eastus\"\n",
        ")\n"
      ],
      "outputs": [],
      "execution_count": 2,
      "metadata": {
        "jupyter": {
          "source_hidden": false,
          "outputs_hidden": false
        },
        "nteract": {
          "transient": {
            "deleting": false
          }
        }
      }
    },
    {
      "cell_type": "code",
      "source": [
        "import qsharp.azure\r\n",
        "targets = qsharp.azure.connect(\r\n",
        "   resourceId=\"/subscriptions/83e0e071-c631-4700-bd13-7c6a2545ab1c/resourceGroups/AzureQuantum/providers/Microsoft.Quantum/Workspaces/jcrandall-q\",\r\n",
        "   location=\"eastus\")"
      ],
      "outputs": [
        {
          "output_type": "stream",
          "name": "stdout",
          "text": "Preparing Q# environment...\nAuthenticated using Microsoft.Azure.Quantum.Authentication.TokenFileCredential\n\n\nConnected to Azure Quantum workspace jcrandall-q in location eastus.\n"
        }
      ],
      "execution_count": 3,
      "metadata": {
        "jupyter": {
          "source_hidden": false,
          "outputs_hidden": false
        },
        "nteract": {
          "transient": {
            "deleting": false
          }
        }
      }
    },
    {
      "cell_type": "code",
      "source": [
        "import qsharp\r\n",
        "\r\n",
        "print(\"This workspace's targets:\")\r\n",
        "for target in targets:\r\n",
        "    print(\"-\", target.id)"
      ],
      "outputs": [
        {
          "output_type": "stream",
          "name": "stdout",
          "text": "This workspace's targets:\n- ionq.qpu\n- ionq.simulator\n- quantinuum.hqs-lt-s1\n- quantinuum.hqs-lt-s1-apival\n- quantinuum.hqs-lt-s2\n- quantinuum.hqs-lt-s2-apival\n- quantinuum.hqs-lt-s1-sim\n- quantinuum.hqs-lt-s2-sim\n- quantinuum.hqs-lt\n"
        }
      ],
      "execution_count": 4,
      "metadata": {
        "jupyter": {
          "source_hidden": false,
          "outputs_hidden": false
        },
        "nteract": {
          "transient": {
            "deleting": false
          }
        }
      }
    },
    {
      "cell_type": "markdown",
      "source": [
        "# Shor's Algorithm\n",
        "Given: $M$, the numbers to be factored:\n",
        "* Step 1: Pick $n$ qubits so that $N = 2^n > M$.\n",
        "* Step 2: Pick a random $ a < M $.\n",
        "* Step 3: If $\\text{gcd}(a,M) \\neq 1$, we've factored $M$, so stop.\n",
        "* Step 4: If not, use $a$ and $M$ in shor's circuit and obtain and outcome $|y\\rangle$ \n",
        "* Step 5: Find the close convergents of $\\frac{y}{N}$, and thus a guess for $r$.\n",
        "* Step 6: See if these two conditions are satisfied:\n",
        "    * $r$ is even.\n",
        "    * $a^{\\frac{r}{2}} + 1 \\equiv_M 0 $ is false\n",
        "    * If not, try a different Step 2 and repeat steps 3-6.\n",
        "* Step 7: If the conditions are satisfed, attempt to factor $M$ as shown via the numbers $a^{\\frac{r}{2}} + 1$ and $a^{\\frac{r}{2}} - 1$.\n",
        "* Repeat as needed to try different $r$ so that at least one provides a $y$ near $\\frac{N}{r}$ \n"
      ],
      "metadata": {
        "nteract": {
          "transient": {
            "deleting": false
          }
        }
      }
    },
    {
      "cell_type": "code",
      "source": [
        "# We declare the function we will define in Q# as a callable so that Python recognizes the symbol.\r\n",
        "GenerateRandomBit: any = None"
      ],
      "outputs": [],
      "execution_count": 5,
      "metadata": {
        "jupyter": {
          "source_hidden": false,
          "outputs_hidden": false
        },
        "nteract": {
          "transient": {
            "deleting": false
          }
        }
      }
    },
    {
      "cell_type": "code",
      "source": [
        "%%qsharp\r\n",
        "open Microsoft.Quantum.Arrays;\r\n",
        "open Microsoft.Quantum.Convert;\r\n",
        "open Microsoft.Quantum.Diagnostics;\r\n",
        "open Microsoft.Quantum.Intrinsic;\r\n",
        "open Microsoft.Quantum.Math;\r\n",
        "open Microsoft.Quantum.Measurement;"
      ],
      "outputs": [],
      "execution_count": 23,
      "metadata": {
        "jupyter": {
          "source_hidden": false,
          "outputs_hidden": false
        },
        "nteract": {
          "transient": {
            "deleting": false
          }
        },
        "microsoft": {
          "language": "qsharp"
        }
      }
    },
    {
      "cell_type": "markdown",
      "source": [
        "# 3 qubit Quantum Fourier Transform"
      ],
      "metadata": {
        "nteract": {
          "transient": {
            "deleting": false
          }
        }
      }
    },
    {
      "cell_type": "code",
      "source": [
        "%%qsharp\r\n",
        "operation Perform3qubitQFT() : Result[] {\r\n",
        "\r\n",
        "        mutable resultArray = [Zero, size = 3];\r\n",
        "\r\n",
        "        use qs = Qubit[3];\r\n",
        "\r\n",
        "        //QFT:\r\n",
        "        //first qubit:\r\n",
        "        H(qs[0]);\r\n",
        "        Controlled R1([qs[1]], (PI()/2.0, qs[0]));\r\n",
        "        Controlled R1([qs[2]], (PI()/4.0, qs[0]));\r\n",
        "\r\n",
        "        //second qubit:\r\n",
        "        H(qs[1]);\r\n",
        "        Controlled R1([qs[2]], (PI()/2.0, qs[1]));\r\n",
        "\r\n",
        "        //third qubit:\r\n",
        "        H(qs[2]);\r\n",
        "\r\n",
        "        SWAP(qs[2], qs[0]);\r\n",
        "\r\n",
        "        Message(\"Before measurement: \");\r\n",
        "        DumpMachine();\r\n",
        "\r\n",
        "        for i in IndexRange(qs) {\r\n",
        "            set resultArray w/= i <- M(qs[i]);\r\n",
        "        }\r\n",
        "\r\n",
        "        Message(\"After measurement: \");\r\n",
        "        DumpMachine();\r\n",
        "\r\n",
        "        ResetAll(qs);\r\n",
        "\r\n",
        "        return resultArray;\r\n",
        "}\r\n"
      ],
      "outputs": [],
      "execution_count": 24,
      "metadata": {
        "jupyter": {
          "source_hidden": false,
          "outputs_hidden": false
        },
        "nteract": {
          "transient": {
            "deleting": false
          }
        },
        "microsoft": {
          "language": "qsharp"
        }
      }
    },
    {
      "cell_type": "code",
      "source": [
        "# Set the target to ionq.simulator\r\n",
        "qsharp.azure.target(\"ionq.simulator\")\r\n",
        "\r\n",
        "# We'll use 100 shots (simulated runs). Timeout is in seconds.\r\n",
        "result = qsharp.azure.execute(Perform3qubitQFT, shots=100, jobName=\"Perform 3 qubit QFT\", timeout=240)"
      ],
      "outputs": [
        {
          "output_type": "stream",
          "name": "stdout",
          "text": "Loading package Microsoft.Quantum.Providers.IonQ and dependencies...\nActive target is now ionq.simulator\nSubmitting Perform3qubitQFT to target ionq.simulator...\n"
        },
        {
          "output_type": "stream",
          "name": "stderr",
          "text": "Failed to submit Q# operation Perform3qubitQFT for execution.\nException has been thrown by the target of an invocation.\n"
        },
        {
          "output_type": "error",
          "ename": "AzureError",
          "evalue": "{'error_code': 1010, 'error_name': 'JobSubmissionFailed', 'error_description': 'Failed to submit the job to the Azure Quantum workspace.'}",
          "traceback": [
            "\u001b[0;31m---------------------------------------------------------------------------\u001b[0m",
            "\u001b[0;31mAzureError\u001b[0m                                Traceback (most recent call last)",
            "\u001b[0;32m/tmp/ipykernel_16116/1344104433.py\u001b[0m in \u001b[0;36m<module>\u001b[0;34m\u001b[0m\n\u001b[1;32m      3\u001b[0m \u001b[0;34m\u001b[0m\u001b[0m\n\u001b[1;32m      4\u001b[0m \u001b[0;31m# We'll use 100 shots (simulated runs). Timeout is in seconds.\u001b[0m\u001b[0;34m\u001b[0m\u001b[0;34m\u001b[0m\u001b[0;34m\u001b[0m\u001b[0m\n\u001b[0;32m----> 5\u001b[0;31m \u001b[0mresult\u001b[0m \u001b[0;34m=\u001b[0m \u001b[0mqsharp\u001b[0m\u001b[0;34m.\u001b[0m\u001b[0mazure\u001b[0m\u001b[0;34m.\u001b[0m\u001b[0mexecute\u001b[0m\u001b[0;34m(\u001b[0m\u001b[0mPerform3qubitQFT\u001b[0m\u001b[0;34m,\u001b[0m \u001b[0mshots\u001b[0m\u001b[0;34m=\u001b[0m\u001b[0;36m100\u001b[0m\u001b[0;34m,\u001b[0m \u001b[0mjobName\u001b[0m\u001b[0;34m=\u001b[0m\u001b[0;34m\"Perform 3 qubit QFT\"\u001b[0m\u001b[0;34m,\u001b[0m \u001b[0mtimeout\u001b[0m\u001b[0;34m=\u001b[0m\u001b[0;36m240\u001b[0m\u001b[0;34m)\u001b[0m\u001b[0;34m\u001b[0m\u001b[0;34m\u001b[0m\u001b[0m\n\u001b[0m",
            "\u001b[0;32m/usr/local/lib/python3.7/site-packages/qsharp/azure.py\u001b[0m in \u001b[0;36mexecute\u001b[0;34m(op, **params)\u001b[0m\n\u001b[1;32m    138\u001b[0m     \"\"\"\n\u001b[1;32m    139\u001b[0m     \u001b[0mresult\u001b[0m \u001b[0;34m=\u001b[0m \u001b[0mqsharp\u001b[0m\u001b[0;34m.\u001b[0m\u001b[0mclient\u001b[0m\u001b[0;34m.\u001b[0m\u001b[0m_execute_callable_magic\u001b[0m\u001b[0;34m(\u001b[0m\u001b[0;34m\"azure.execute\"\u001b[0m\u001b[0;34m,\u001b[0m \u001b[0mop\u001b[0m\u001b[0;34m,\u001b[0m \u001b[0mraise_on_stderr\u001b[0m\u001b[0;34m=\u001b[0m\u001b[0;32mFalse\u001b[0m\u001b[0;34m,\u001b[0m \u001b[0;34m**\u001b[0m\u001b[0mparams\u001b[0m\u001b[0;34m)\u001b[0m\u001b[0;34m\u001b[0m\u001b[0;34m\u001b[0m\u001b[0m\n\u001b[0;32m--> 140\u001b[0;31m     \u001b[0;32mif\u001b[0m \u001b[0;34m\"error_code\"\u001b[0m \u001b[0;32min\u001b[0m \u001b[0mresult\u001b[0m\u001b[0;34m:\u001b[0m \u001b[0;32mraise\u001b[0m \u001b[0mAzureError\u001b[0m\u001b[0;34m(\u001b[0m\u001b[0mresult\u001b[0m\u001b[0;34m)\u001b[0m\u001b[0;34m\u001b[0m\u001b[0;34m\u001b[0m\u001b[0m\n\u001b[0m\u001b[1;32m    141\u001b[0m     \u001b[0;32mreturn\u001b[0m \u001b[0mresult\u001b[0m\u001b[0;34m\u001b[0m\u001b[0;34m\u001b[0m\u001b[0m\n\u001b[1;32m    142\u001b[0m \u001b[0;34m\u001b[0m\u001b[0m\n",
            "\u001b[0;31mAzureError\u001b[0m: {'error_code': 1010, 'error_name': 'JobSubmissionFailed', 'error_description': 'Failed to submit the job to the Azure Quantum workspace.'}"
          ]
        }
      ],
      "execution_count": 29,
      "metadata": {
        "jupyter": {
          "source_hidden": false,
          "outputs_hidden": false
        },
        "nteract": {
          "transient": {
            "deleting": false
          }
        }
      }
    },
    {
      "cell_type": "code",
      "source": [
        "from matplotlib import pyplot\r\n",
        "\r\n",
        "pyplot.bar(result.keys(), result.values())\r\n",
        "pyplot.title(\"Result\")\r\n",
        "pyplot.xlabel(\"Measurement\")\r\n",
        "_ = pyplot.ylabel(\"Probability\")"
      ],
      "outputs": [],
      "execution_count": null,
      "metadata": {
        "jupyter": {
          "source_hidden": false,
          "outputs_hidden": false
        },
        "nteract": {
          "transient": {
            "deleting": false
          }
        }
      }
    },
    {
      "cell_type": "markdown",
      "source": [
        "# Generate Random Bit"
      ],
      "metadata": {
        "nteract": {
          "transient": {
            "deleting": false
          }
        }
      }
    },
    {
      "cell_type": "code",
      "source": [
        "%%qsharp\r\n",
        "operation GenerateRandomBit() : Result {\r\n",
        "    use target = Qubit();\r\n",
        "\r\n",
        "    // Apply an H-gate and measure.\r\n",
        "    H(target);\r\n",
        "    return M(target);\r\n",
        "}"
      ],
      "outputs": [],
      "execution_count": 26,
      "metadata": {
        "jupyter": {
          "source_hidden": false,
          "outputs_hidden": false
        },
        "nteract": {
          "transient": {
            "deleting": false
          }
        },
        "microsoft": {
          "language": "qsharp"
        }
      }
    },
    {
      "cell_type": "code",
      "source": [
        "# Set the target to ionq.simulator\r\n",
        "qsharp.azure.target(\"ionq.simulator\")\r\n",
        "\r\n",
        "# We'll use 100 shots (simulated runs). Timeout is in seconds.\r\n",
        "result = qsharp.azure.execute(GenerateRandomBit, shots=100, jobName=\"Generate one random bit\", timeout=240)"
      ],
      "outputs": [
        {
          "output_type": "stream",
          "name": "stdout",
          "text": "Loading package Microsoft.Quantum.Providers.IonQ and dependencies...\nActive target is now ionq.simulator\nSubmitting GenerateRandomBit to target ionq.simulator...\nJob successfully submitted for 100 shots.\n   Job name: Generate one random bit\n   Job ID: 46e7d411-204e-4b3f-9ea4-ea6c1ed0d420\nWaiting up to 240 seconds for Azure Quantum job to complete...\n[22:48:29] Current job status: Waiting\n[22:48:34] Current job status: Waiting\n[22:48:39] Current job status: Waiting\n[22:48:44] Current job status: Waiting\n[22:48:49] Current job status: Waiting\n[22:48:54] Current job status: Waiting\n[22:48:59] Current job status: Finishing\n[22:49:04] Current job status: Succeeded\n"
        }
      ],
      "execution_count": 27,
      "metadata": {
        "jupyter": {
          "source_hidden": false,
          "outputs_hidden": false
        },
        "nteract": {
          "transient": {
            "deleting": false
          }
        }
      }
    },
    {
      "cell_type": "code",
      "source": [
        "from matplotlib import pyplot\r\n",
        "\r\n",
        "pyplot.bar(result.keys(), result.values())\r\n",
        "pyplot.title(\"Result\")\r\n",
        "pyplot.xlabel(\"Measurement\")\r\n",
        "_ = pyplot.ylabel(\"Probability\")"
      ],
      "outputs": [
        {
          "output_type": "display_data",
          "data": {
            "text/plain": "<Figure size 432x288 with 1 Axes>",
            "image/png": "[encoded data removed]"
          },
          "metadata": {
            "needs_background": "light"
          }
        }
      ],
      "execution_count": 28,
      "metadata": {
        "jupyter": {
          "source_hidden": false,
          "outputs_hidden": false
        },
        "nteract": {
          "transient": {
            "deleting": false
          }
        }
      }
    },
    {
      "cell_type": "code",
      "source": [],
      "outputs": [],
      "execution_count": null,
      "metadata": {
        "jupyter": {
          "source_hidden": false,
          "outputs_hidden": false
        },
        "nteract": {
          "transient": {
            "deleting": false
          }
        }
      }
    }
  ],
  "metadata": {
    "language_info": {
      "name": "python",
      "version": "3.7.13",
      "mimetype": "text/x-python",
      "codemirror_mode": {
        "name": "ipython",
        "version": 3
      },
      "pygments_lexer": "ipython3",
      "nbconvert_exporter": "python",
      "file_extension": ".py"
    },
    "kernelspec": {
      "name": "python3",
      "language": "python",
      "display_name": "Python 3 (ipykernel)"
    },
    "kernel_info": {
      "name": "python3"
    },
    "nteract": {
      "version": "nteract-front-end@1.0.0"
    }
  },
  "nbformat": 4,
  "nbformat_minor": 0
}