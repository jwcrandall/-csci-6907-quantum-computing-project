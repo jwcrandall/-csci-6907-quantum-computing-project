{
  "cells": [
    {
      "cell_type": "markdown",
      "source": [
        "# Azure Quantum Workspace"
      ],
      "metadata": {
        "nteract": {
          "transient": {
            "deleting": false
          }
        }
      }
    },
    {
      "cell_type": "code",
      "source": [
        "import qsharp\n",
        "import qsharp.azure\n",
        "from azure.quantum import Workspace\n",
        "\n",
        "workspace = Workspace (\n",
        "    subscription_id = \"83e0e071-c631-4700-bd13-7c6a2545ab1c\",\n",
        "    resource_group = \"azurequantum\",\n",
        "    name = \"jcrandall-q\",\n",
        "    location = \"eastus\"\n",
        ")\n",
        "\n",
        "targets = qsharp.azure.connect(\n",
        "   resourceId=\"/subscriptions/83e0e071-c631-4700-bd13-7c6a2545ab1c/resourceGroups/AzureQuantum/providers/Microsoft.Quantum/Workspaces/jcrandall-q\",\n",
        "   location=\"eastus\")\n",
        "\n",
        "\n",
        "print(\"This workspace's targets:\")\n",
        "for target in targets:\n",
        "    print(\"-\", target.id)\n"
      ],
      "outputs": [
        {
          "output_type": "stream",
          "name": "stdout",
          "text": "Authenticated using Microsoft.Azure.Quantum.Authentication.TokenFileCredential\n\n\nConnected to Azure Quantum workspace jcrandall-q in location eastus.\nThis workspace's targets:\n- ionq.qpu\n- ionq.simulator\n- quantinuum.hqs-lt-s1\n- quantinuum.hqs-lt-s1-apival\n- quantinuum.hqs-lt-s2\n- quantinuum.hqs-lt-s2-apival\n- quantinuum.hqs-lt-s1-sim\n- quantinuum.hqs-lt-s2-sim\n- quantinuum.hqs-lt\n"
        }
      ],
      "execution_count": 9,
      "metadata": {
        "jupyter": {
          "source_hidden": false,
          "outputs_hidden": false
        },
        "nteract": {
          "transient": {
            "deleting": false
          }
        }
      }
    },
    {
      "cell_type": "markdown",
      "source": [
        "# Shor's Algorithm\n",
        "Given: $M$, the number to be factored:\n",
        "* Step 1: Pick $n$ qubits so that $N = 2^n > M$.\n",
        "* Step 2: Pick a random $ a < M $.\n",
        "* Step 3: If $\\text{gcd}(a,M) \\neq 1$, we've factored $M$, so stop.\n",
        "* Step 4: If not, use $a$ and $M$ in shor's circuit and obtain and outcome $|y\\rangle$ \n",
        "* Step 5: Find the close convergents of $\\frac{y}{N}$, and thus a guess for $r$.\n",
        "* Step 6: See if these two conditions are satisfied:\n",
        "    * $r$ is even.\n",
        "    * $a^{\\frac{r}{2}} + 1 \\equiv_M 0 $ is false\n",
        "    * If not, try a different Step 2 and repeat steps 3-6.\n",
        "* Step 7: If the conditions are satisfed, attempt to factor $M$ as shown via the numbers $a^{\\frac{r}{2}} + 1$ and $a^{\\frac{r}{2}} - 1$.\n",
        "* Repeat as needed to try different $r$ so that at least one provides a $y$ near $\\frac{N}{r}$ \n"
      ],
      "metadata": {
        "nteract": {
          "transient": {
            "deleting": false
          }
        }
      }
    },
    {
      "cell_type": "code",
      "source": [
        "%%qsharp\r\n",
        "\r\n",
        "open Microsoft.Quantum.Arrays;\r\n",
        "open Microsoft.Quantum.Convert;\r\n",
        "open Microsoft.Quantum.Diagnostics;\r\n",
        "open Microsoft.Quantum.Intrinsic;\r\n",
        "open Microsoft.Quantum.Math;\r\n",
        "open Microsoft.Quantum.Measurement;\r\n",
        "\r\n",
        "// 3 qubit Quantum Fourier Transform\r\n",
        "operation Perform3qubitQFT() : Result[] {\r\n",
        "        mutable resultArray = [Zero, size = 3];\r\n",
        "        use qs = Qubit[3];\r\n",
        "        //QFT:\r\n",
        "        //first qubit:\r\n",
        "        H(qs[0]);\r\n",
        "        Controlled R1([qs[1]], (PI()/2.0, qs[0]));\r\n",
        "        Controlled R1([qs[2]], (PI()/4.0, qs[0]));\r\n",
        "        //second qubit:\r\n",
        "        H(qs[1]);\r\n",
        "        Controlled R1([qs[2]], (PI()/2.0, qs[1]));\r\n",
        "        //third qubit:\r\n",
        "        H(qs[2]);\r\n",
        "\r\n",
        "        SWAP(qs[2], qs[0]);\r\n",
        "\r\n",
        "        //Message(\"Before measurement: \");\r\n",
        "        //DumpMachine();\r\n",
        "        \r\n",
        "        for i in IndexRange(qs) {\r\n",
        "            set resultArray w/= i <- M(qs[i]);\r\n",
        "        }\r\n",
        "\r\n",
        "        //Message(\"After measurement: \");\r\n",
        "        //DumpMachine();\r\n",
        "        \r\n",
        "        ResetAll(qs);\r\n",
        "        \r\n",
        "        return resultArray;\r\n",
        "}\r\n"
      ],
      "outputs": [],
      "execution_count": 25,
      "metadata": {
        "jupyter": {
          "source_hidden": false,
          "outputs_hidden": false
        },
        "nteract": {
          "transient": {
            "deleting": false
          }
        },
        "microsoft": {
          "language": "qsharp"
        }
      }
    },
    {
      "cell_type": "code",
      "source": [
        "Perform3qubitQFT()"
      ],
      "outputs": [
        {
          "output_type": "execute_result",
          "execution_count": 30,
          "data": {
            "text/plain": "[1, 0, 0]"
          },
          "metadata": {}
        }
      ],
      "execution_count": 30,
      "metadata": {
        "jupyter": {
          "source_hidden": false,
          "outputs_hidden": false
        },
        "nteract": {
          "transient": {
            "deleting": false
          }
        }
      }
    },
    {
      "cell_type": "code",
      "source": [],
      "outputs": [],
      "execution_count": null,
      "metadata": {
        "jupyter": {
          "source_hidden": false,
          "outputs_hidden": false
        },
        "nteract": {
          "transient": {
            "deleting": false
          }
        }
      }
    }
  ],
  "metadata": {
    "language_info": {
      "name": "python",
      "version": "3.7.13",
      "mimetype": "text/x-python",
      "codemirror_mode": {
        "name": "ipython",
        "version": 3
      },
      "pygments_lexer": "ipython3",
      "nbconvert_exporter": "python",
      "file_extension": ".py"
    },
    "kernelspec": {
      "name": "python3",
      "language": "python",
      "display_name": "Python 3 (ipykernel)"
    },
    "kernel_info": {
      "name": "python3"
    },
    "nteract": {
      "version": "nteract-front-end@1.0.0"
    }
  },
  "nbformat": 4,
  "nbformat_minor": 0
}